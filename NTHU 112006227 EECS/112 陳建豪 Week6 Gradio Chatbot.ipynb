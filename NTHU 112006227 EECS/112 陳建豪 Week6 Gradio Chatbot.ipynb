{
  "nbformat": 4,
  "nbformat_minor": 0,
  "metadata": {
    "colab": {
      "provenance": [],
      "toc_visible": true,
      "include_colab_link": true
    },
    "kernelspec": {
      "name": "python3",
      "display_name": "Python 3"
    },
    "language_info": {
      "name": "python"
    }
  },
  "cells": [
    {
      "cell_type": "markdown",
      "metadata": {
        "id": "view-in-github",
        "colab_type": "text"
      },
      "source": [
        "<a href=\"https://colab.research.google.com/github/JasonNababan/NTHU/blob/main/NTHU%20112006227%20EECS/112%20%E9%99%B3%E5%BB%BA%E8%B1%AA%20Week6%20Gradio%20Chatbot.ipynb\" target=\"_parent\"><img src=\"https://colab.research.google.com/assets/colab-badge.svg\" alt=\"Open In Colab\"/></a>"
      ]
    },
    {
      "cell_type": "markdown",
      "source": [
        "# 1. Apply for your own API keys\n",
        "\n",
        "We use the OpenAI API mainly because it started early and became something of a standard. That said, you don’t have to use OpenAI — here are several alternatives.\n",
        "\n",
        "## (1) Mistral AI key (free tier available)\n",
        "\n",
        "Go to https://console.mistral.ai/ to sign up, choose a plan (you can pick the free one), and then create a Mistral AI API key. Save that key in the left “keys” area under the name **`Mistral`**.\n",
        "\n",
        "## (2) OpenAI API key\n",
        "\n",
        "OpenAI no longer provides free quota, so if you want to use OpenAI models you must add funds. For practice, about **USD $5** is usually enough.\n",
        "\n",
        "Visit: https://platform.openai.com\n",
        "\n",
        "Save this key in the left “keys” area under the name **`OpenAI`**.\n",
        "\n",
        "## (3) Groq key (free tier available)\n",
        "\n",
        "Groq is notable for high speed and offers a free tier (with rate limits). Enterprises can pay for higher usage. Go to https://console.groq.com/ to sign up and get an API key.\n",
        "\n",
        "Save this key under a name like **`Groq`**.\n",
        "\n",
        "## (4) Gemini key (free tier available)\n",
        "\n",
        "Google Gemini provides a free API and has recently become more OpenAI-compatible. Apply for a key at https://ai.google.dev/. Like Colab, the free tier can have unclear restrictions and might not always work.\n",
        "\n",
        "Save this key under a name like **`Gemini`**.\n",
        "\n",
        "## (5) Together AI key (free models + $1 starter credit)\n",
        "\n",
        "https://api.together.ai/ offers some limited free models and provides **$1 starter credit**. You can try cheaper models or top up for more advanced ones.\n",
        "\n",
        "Save this key under a name like **`Together`**.\n",
        "\n",
        "## (6) Fireworks AI key ($1 starter credit)\n",
        "\n",
        "Register at https://fireworks.ai/ — they provide **$1 starter credit**.\n",
        "\n",
        "Save this key under a name like **`Fireworks`**.\n",
        "\n",
        "---\n",
        "\n",
        "## Basic program settings — please edit as needed\n",
        "\n",
        "- `api_key`: API Key read from input  \n",
        "- `character`: ChatGPT “persona”  \n",
        "- `description`: App description and ChatGPT’s first message  \n",
        "- `model`: chosen model\n",
        "\n",
        "## Look at you left bar and input your API key on the seceret panel"
      ],
      "metadata": {
        "id": "0H2rAfmwjB_S"
      }
    },
    {
      "cell_type": "markdown",
      "source": [
        "#### Import your key\n",
        "Please decide which key to import based on the service you use."
      ],
      "metadata": {
        "id": "7YnD5hfb5sO8"
      }
    },
    {
      "cell_type": "code",
      "source": [
        "import os\n",
        "from google.colab import userdata"
      ],
      "metadata": {
        "id": "mGOx_1226Mjm"
      },
      "execution_count": 67,
      "outputs": []
    },
    {
      "cell_type": "code",
      "source": [
        "#【使用 Mistral】\n",
        "# api_key = userdata.get('Mistral')\n",
        "# base_url = \"https://api.mistral.ai/v1\"\n",
        "# model = \"ministral-8b-latest\"\n",
        "\n",
        "#【使用 OpenAI】\n",
        "# api_key = userdata.get('OpenAI')\n",
        "# model = \"gpt-4o\"\n",
        "\n",
        "#【使用 Groq】\n",
        "api_key = userdata.get('Groq')\n",
        "model = \"llama-3.1-8b-instant\"\n",
        "base_url=\"https://api.groq.com/openai/v1\"\n",
        "\n",
        "\n",
        "#【使用 Gemini】\n",
        "# api_key = userdata.get('Gemini')\n",
        "# model=\"gemini-1.5-flash\"\n",
        "# base_url=\"https://generativelanguage.googleapis.com/v1beta/openai/\"\n",
        "\n",
        "#【使用 Together】\n",
        "# api_key = userdata.get('Together')\n",
        "# model = \"meta-llama/Llama-Vision-Free\"\n",
        "# base_url=\"https://api.together.xyz/v1\"\n",
        "\n",
        "#【使用 Fireworks】\n",
        "# api_key = userdata.get('Fireworks')\n",
        "# model = \"accounts/fireworks/models/llama-v3p2-3b-instruct\"\n",
        "# base_url = \"https://api.fireworks.ai/inference/v1\""
      ],
      "metadata": {
        "id": "L507G1B65rPo"
      },
      "execution_count": 68,
      "outputs": []
    },
    {
      "cell_type": "code",
      "source": [
        "os.environ['GROQ_API_KEY']=api_key"
      ],
      "metadata": {
        "id": "-cS890Mm7xu6"
      },
      "execution_count": 69,
      "outputs": []
    },
    {
      "cell_type": "markdown",
      "source": [
        "### 2. Basic settings of the program"
      ],
      "metadata": {
        "id": "eeekaDo47R4F"
      }
    },
    {
      "cell_type": "code",
      "source": [
        "title = \"Chatbot\""
      ],
      "metadata": {
        "id": "Y-SRjxmhxvbb"
      },
      "execution_count": 70,
      "outputs": []
    },
    {
      "cell_type": "markdown",
      "source": [
        "Give your robot a name."
      ],
      "metadata": {
        "id": "6jirqppoxqe_"
      }
    },
    {
      "cell_type": "markdown",
      "source": [
        "Please set up a role for your chatbot first."
      ],
      "metadata": {
        "id": "qekcDCsvvz2J"
      }
    },
    {
      "cell_type": "code",
      "source": [
        "system = '''You are The Chatterbox Muse, an exuberant, curious, and generous conversationalist whose job is to delight and engage the user with long, interesting, and thoughtful replies. Your default is to talk a lot — provide rich explanations, vivid examples, and small side-stories that illuminate points — while always remaining clear, accurate, and helpful.\n",
        "\n",
        "Voice & tone\n",
        "\n",
        "Warm, enthusiastic, curious, and imaginative.\n",
        "\n",
        "Comfortable using metaphors, brief anecdotes, playful asides, and sensory detail to make explanations memorable.\n",
        "\n",
        "Maintain respect and kindness; never be condescending.\n",
        "\n",
        "Reply structure (use this order unless the user asks otherwise)\n",
        "\n",
        "Headline (1 sentence): a clear summary of the main point or answer.\n",
        "\n",
        "Deep dive (2–6 paragraphs): an expanded explanation with examples, mini-stories, analogies, and one small detour that makes the topic interesting. Be generous with helpful detail.\n",
        "\n",
        "Practical takeaway(s) (1–3 bullets): concrete, actionable steps or code/commands when relevant.\n",
        "\n",
        "One follow-up question: ask a single, engaging question to keep the conversation going (optional if the user explicitly said “no follow-ups”).\n",
        "\n",
        "Closing micro-spark (1–2 sentences): a tiny imaginative flourish or quick tip that leaves the user smiling.\n",
        "\n",
        "Formatting & length\n",
        "\n",
        "Default to long-form replies (roughly 150–500+ words) when the topic benefits from depth. For highly technical tasks, include runnable examples and exact outputs.\n",
        "\n",
        "Use short paragraphs, headings, and code blocks to remain scannable.\n",
        "\n",
        "If the user requests “short” or “concise,” obey immediately and switch to a compact style.\n",
        "\n",
        "Safety & privacy (must follow)\n",
        "\n",
        "Never ask for secrets (API keys, passwords, private keys) or personal identifying documents. If the user pastes secrets, immediately warn them and tell them how to remove them and store them safely (env vars / secret manager).\n",
        "\n",
        "Refuse illegal, dangerous, or illicit requests; provide safe alternatives.\n",
        "\n",
        "For medical, legal, or critical-safety topics give general information only and suggest consulting a qualified professional.\n",
        "\n",
        "Accuracy\n",
        "\n",
        "When making factual claims about events, tools, or up-to-date items, say whether the information may be out of date and offer to look it up if the user allows web checking.\n",
        "\n",
        "For numeric or logic work, show your calculations step-by-step.\n",
        "\n",
        "Conversation rules\n",
        "\n",
        "Ask at most one follow-up question per reply.\n",
        "\n",
        "Mirror the user’s language and emotional tone (English, Chinese, Indonesian, etc.).\n",
        "\n",
        "If the user asks for iterative improvement, produce a first full version, then self-critique and iterate up to 2 more times unless asked for more.\n",
        "\n",
        "When to be concise\n",
        "\n",
        "If the user writes “TL;DR”, “short please”, “just the steps”, or otherwise explicitly requests brevity, produce a short-form reply (1–3 short paragraphs).\n",
        "\n",
        "Example ending (required)\n",
        "\n",
        "End every message with a short creative signature line — one sentence, playful or poetic, e.g.:\n",
        "\n",
        "Tiny spark: a curious thought to try next. ✨.'''"
      ],
      "metadata": {
        "id": "MqWpfJYhdFu3"
      },
      "execution_count": 71,
      "outputs": []
    },
    {
      "cell_type": "markdown",
      "source": [
        "Next is the description text, which just lets users know what this conversational robot does."
      ],
      "metadata": {
        "id": "qJv7nYANwA6-"
      }
    },
    {
      "cell_type": "code",
      "source": [
        "description = '''The Chatterbox Muse — a talkative, imaginative friend who gives long, delightful replies and helpful takeaways.'''"
      ],
      "metadata": {
        "id": "caZ8CKRwv-e-"
      },
      "execution_count": 72,
      "outputs": []
    },
    {
      "cell_type": "markdown",
      "source": [
        "### 2. Using the Groq API\n",
        "\n",
        "First, let's install the `groq` package and `gradio`, which allows you to quickly build web apps."
      ],
      "metadata": {
        "id": "Ch-GA2w63pjm"
      }
    },
    {
      "cell_type": "code",
      "source": [
        "!pip install groq\n",
        "!pip install gradio"
      ],
      "metadata": {
        "id": "hAR65--V8IMH",
        "colab": {
          "base_uri": "https://localhost:8080/"
        },
        "outputId": "8aeecafe-fee2-49a7-afee-4a51d8c3654c"
      },
      "execution_count": 73,
      "outputs": [
        {
          "output_type": "stream",
          "name": "stdout",
          "text": [
            "Requirement already satisfied: groq in /usr/local/lib/python3.12/dist-packages (0.32.0)\n",
            "Requirement already satisfied: anyio<5,>=3.5.0 in /usr/local/lib/python3.12/dist-packages (from groq) (4.11.0)\n",
            "Requirement already satisfied: distro<2,>=1.7.0 in /usr/local/lib/python3.12/dist-packages (from groq) (1.9.0)\n",
            "Requirement already satisfied: httpx<1,>=0.23.0 in /usr/local/lib/python3.12/dist-packages (from groq) (0.28.1)\n",
            "Requirement already satisfied: pydantic<3,>=1.9.0 in /usr/local/lib/python3.12/dist-packages (from groq) (2.11.10)\n",
            "Requirement already satisfied: sniffio in /usr/local/lib/python3.12/dist-packages (from groq) (1.3.1)\n",
            "Requirement already satisfied: typing-extensions<5,>=4.10 in /usr/local/lib/python3.12/dist-packages (from groq) (4.15.0)\n",
            "Requirement already satisfied: idna>=2.8 in /usr/local/lib/python3.12/dist-packages (from anyio<5,>=3.5.0->groq) (3.11)\n",
            "Requirement already satisfied: certifi in /usr/local/lib/python3.12/dist-packages (from httpx<1,>=0.23.0->groq) (2025.10.5)\n",
            "Requirement already satisfied: httpcore==1.* in /usr/local/lib/python3.12/dist-packages (from httpx<1,>=0.23.0->groq) (1.0.9)\n",
            "Requirement already satisfied: h11>=0.16 in /usr/local/lib/python3.12/dist-packages (from httpcore==1.*->httpx<1,>=0.23.0->groq) (0.16.0)\n",
            "Requirement already satisfied: annotated-types>=0.6.0 in /usr/local/lib/python3.12/dist-packages (from pydantic<3,>=1.9.0->groq) (0.7.0)\n",
            "Requirement already satisfied: pydantic-core==2.33.2 in /usr/local/lib/python3.12/dist-packages (from pydantic<3,>=1.9.0->groq) (2.33.2)\n",
            "Requirement already satisfied: typing-inspection>=0.4.0 in /usr/local/lib/python3.12/dist-packages (from pydantic<3,>=1.9.0->groq) (0.4.2)\n",
            "Requirement already satisfied: gradio in /usr/local/lib/python3.12/dist-packages (5.49.1)\n",
            "Requirement already satisfied: aiofiles<25.0,>=22.0 in /usr/local/lib/python3.12/dist-packages (from gradio) (24.1.0)\n",
            "Requirement already satisfied: anyio<5.0,>=3.0 in /usr/local/lib/python3.12/dist-packages (from gradio) (4.11.0)\n",
            "Requirement already satisfied: brotli>=1.1.0 in /usr/local/lib/python3.12/dist-packages (from gradio) (1.1.0)\n",
            "Requirement already satisfied: fastapi<1.0,>=0.115.2 in /usr/local/lib/python3.12/dist-packages (from gradio) (0.119.0)\n",
            "Requirement already satisfied: ffmpy in /usr/local/lib/python3.12/dist-packages (from gradio) (0.6.3)\n",
            "Requirement already satisfied: gradio-client==1.13.3 in /usr/local/lib/python3.12/dist-packages (from gradio) (1.13.3)\n",
            "Requirement already satisfied: groovy~=0.1 in /usr/local/lib/python3.12/dist-packages (from gradio) (0.1.2)\n",
            "Requirement already satisfied: httpx<1.0,>=0.24.1 in /usr/local/lib/python3.12/dist-packages (from gradio) (0.28.1)\n",
            "Requirement already satisfied: huggingface-hub<2.0,>=0.33.5 in /usr/local/lib/python3.12/dist-packages (from gradio) (0.35.3)\n",
            "Requirement already satisfied: jinja2<4.0 in /usr/local/lib/python3.12/dist-packages (from gradio) (3.1.6)\n",
            "Requirement already satisfied: markupsafe<4.0,>=2.0 in /usr/local/lib/python3.12/dist-packages (from gradio) (3.0.3)\n",
            "Requirement already satisfied: numpy<3.0,>=1.0 in /usr/local/lib/python3.12/dist-packages (from gradio) (2.0.2)\n",
            "Requirement already satisfied: orjson~=3.0 in /usr/local/lib/python3.12/dist-packages (from gradio) (3.11.3)\n",
            "Requirement already satisfied: packaging in /usr/local/lib/python3.12/dist-packages (from gradio) (25.0)\n",
            "Requirement already satisfied: pandas<3.0,>=1.0 in /usr/local/lib/python3.12/dist-packages (from gradio) (2.2.2)\n",
            "Requirement already satisfied: pillow<12.0,>=8.0 in /usr/local/lib/python3.12/dist-packages (from gradio) (11.3.0)\n",
            "Requirement already satisfied: pydantic<2.12,>=2.0 in /usr/local/lib/python3.12/dist-packages (from gradio) (2.11.10)\n",
            "Requirement already satisfied: pydub in /usr/local/lib/python3.12/dist-packages (from gradio) (0.25.1)\n",
            "Requirement already satisfied: python-multipart>=0.0.18 in /usr/local/lib/python3.12/dist-packages (from gradio) (0.0.20)\n",
            "Requirement already satisfied: pyyaml<7.0,>=5.0 in /usr/local/lib/python3.12/dist-packages (from gradio) (6.0.3)\n",
            "Requirement already satisfied: ruff>=0.9.3 in /usr/local/lib/python3.12/dist-packages (from gradio) (0.14.0)\n",
            "Requirement already satisfied: safehttpx<0.2.0,>=0.1.6 in /usr/local/lib/python3.12/dist-packages (from gradio) (0.1.6)\n",
            "Requirement already satisfied: semantic-version~=2.0 in /usr/local/lib/python3.12/dist-packages (from gradio) (2.10.0)\n",
            "Requirement already satisfied: starlette<1.0,>=0.40.0 in /usr/local/lib/python3.12/dist-packages (from gradio) (0.48.0)\n",
            "Requirement already satisfied: tomlkit<0.14.0,>=0.12.0 in /usr/local/lib/python3.12/dist-packages (from gradio) (0.13.3)\n",
            "Requirement already satisfied: typer<1.0,>=0.12 in /usr/local/lib/python3.12/dist-packages (from gradio) (0.19.2)\n",
            "Requirement already satisfied: typing-extensions~=4.0 in /usr/local/lib/python3.12/dist-packages (from gradio) (4.15.0)\n",
            "Requirement already satisfied: uvicorn>=0.14.0 in /usr/local/lib/python3.12/dist-packages (from gradio) (0.37.0)\n",
            "Requirement already satisfied: fsspec in /usr/local/lib/python3.12/dist-packages (from gradio-client==1.13.3->gradio) (2025.3.0)\n",
            "Requirement already satisfied: websockets<16.0,>=13.0 in /usr/local/lib/python3.12/dist-packages (from gradio-client==1.13.3->gradio) (15.0.1)\n",
            "Requirement already satisfied: idna>=2.8 in /usr/local/lib/python3.12/dist-packages (from anyio<5.0,>=3.0->gradio) (3.11)\n",
            "Requirement already satisfied: sniffio>=1.1 in /usr/local/lib/python3.12/dist-packages (from anyio<5.0,>=3.0->gradio) (1.3.1)\n",
            "Requirement already satisfied: certifi in /usr/local/lib/python3.12/dist-packages (from httpx<1.0,>=0.24.1->gradio) (2025.10.5)\n",
            "Requirement already satisfied: httpcore==1.* in /usr/local/lib/python3.12/dist-packages (from httpx<1.0,>=0.24.1->gradio) (1.0.9)\n",
            "Requirement already satisfied: h11>=0.16 in /usr/local/lib/python3.12/dist-packages (from httpcore==1.*->httpx<1.0,>=0.24.1->gradio) (0.16.0)\n",
            "Requirement already satisfied: filelock in /usr/local/lib/python3.12/dist-packages (from huggingface-hub<2.0,>=0.33.5->gradio) (3.20.0)\n",
            "Requirement already satisfied: requests in /usr/local/lib/python3.12/dist-packages (from huggingface-hub<2.0,>=0.33.5->gradio) (2.32.4)\n",
            "Requirement already satisfied: tqdm>=4.42.1 in /usr/local/lib/python3.12/dist-packages (from huggingface-hub<2.0,>=0.33.5->gradio) (4.67.1)\n",
            "Requirement already satisfied: hf-xet<2.0.0,>=1.1.3 in /usr/local/lib/python3.12/dist-packages (from huggingface-hub<2.0,>=0.33.5->gradio) (1.1.10)\n",
            "Requirement already satisfied: python-dateutil>=2.8.2 in /usr/local/lib/python3.12/dist-packages (from pandas<3.0,>=1.0->gradio) (2.9.0.post0)\n",
            "Requirement already satisfied: pytz>=2020.1 in /usr/local/lib/python3.12/dist-packages (from pandas<3.0,>=1.0->gradio) (2025.2)\n",
            "Requirement already satisfied: tzdata>=2022.7 in /usr/local/lib/python3.12/dist-packages (from pandas<3.0,>=1.0->gradio) (2025.2)\n",
            "Requirement already satisfied: annotated-types>=0.6.0 in /usr/local/lib/python3.12/dist-packages (from pydantic<2.12,>=2.0->gradio) (0.7.0)\n",
            "Requirement already satisfied: pydantic-core==2.33.2 in /usr/local/lib/python3.12/dist-packages (from pydantic<2.12,>=2.0->gradio) (2.33.2)\n",
            "Requirement already satisfied: typing-inspection>=0.4.0 in /usr/local/lib/python3.12/dist-packages (from pydantic<2.12,>=2.0->gradio) (0.4.2)\n",
            "Requirement already satisfied: click>=8.0.0 in /usr/local/lib/python3.12/dist-packages (from typer<1.0,>=0.12->gradio) (8.3.0)\n",
            "Requirement already satisfied: shellingham>=1.3.0 in /usr/local/lib/python3.12/dist-packages (from typer<1.0,>=0.12->gradio) (1.5.4)\n",
            "Requirement already satisfied: rich>=10.11.0 in /usr/local/lib/python3.12/dist-packages (from typer<1.0,>=0.12->gradio) (13.9.4)\n",
            "Requirement already satisfied: six>=1.5 in /usr/local/lib/python3.12/dist-packages (from python-dateutil>=2.8.2->pandas<3.0,>=1.0->gradio) (1.17.0)\n",
            "Requirement already satisfied: markdown-it-py>=2.2.0 in /usr/local/lib/python3.12/dist-packages (from rich>=10.11.0->typer<1.0,>=0.12->gradio) (4.0.0)\n",
            "Requirement already satisfied: pygments<3.0.0,>=2.13.0 in /usr/local/lib/python3.12/dist-packages (from rich>=10.11.0->typer<1.0,>=0.12->gradio) (2.19.2)\n",
            "Requirement already satisfied: charset_normalizer<4,>=2 in /usr/local/lib/python3.12/dist-packages (from requests->huggingface-hub<2.0,>=0.33.5->gradio) (3.4.4)\n",
            "Requirement already satisfied: urllib3<3,>=1.21.1 in /usr/local/lib/python3.12/dist-packages (from requests->huggingface-hub<2.0,>=0.33.5->gradio) (2.5.0)\n",
            "Requirement already satisfied: mdurl~=0.1 in /usr/local/lib/python3.12/dist-packages (from markdown-it-py>=2.2.0->rich>=10.11.0->typer<1.0,>=0.12->gradio) (0.1.2)\n"
          ]
        }
      ]
    },
    {
      "cell_type": "markdown",
      "source": [
        "### 3. Use Groq API\n",
        "\n",
        "首先使用 `Groq` 套件。"
      ],
      "metadata": {
        "id": "RdQWlryD3sWO"
      }
    },
    {
      "cell_type": "code",
      "source": [
        "from groq import Groq\n"
      ],
      "metadata": {
        "id": "AE_hxsf7_xnw"
      },
      "execution_count": 74,
      "outputs": []
    },
    {
      "cell_type": "markdown",
      "source": [
        "把自己的金鑰貼上。"
      ],
      "metadata": {
        "id": "gnl3KyX5oOsv"
      }
    },
    {
      "cell_type": "code",
      "source": [
        "client = Groq(base_url=\"https://api.groq.com\", api_key=os.getenv(\"GROQ_API_KEY\"))"
      ],
      "metadata": {
        "id": "j1JpbbMV6XUj"
      },
      "execution_count": 75,
      "outputs": []
    },
    {
      "cell_type": "markdown",
      "source": [
        "ChatGPT API 的重點是要把之前對話的內容送給 ChatGPT, 然後他就會有個適當的回應!\n",
        "\n",
        "角色 (`role`) 一共有三種, 分別是:\n",
        "\n",
        "* `system`: 這是對話機器人的「人設」\n",
        "* `user`: 使用者\n",
        "* `assistant`: ChatGPT 的回應"
      ],
      "metadata": {
        "id": "2QvMR3uRph__"
      }
    },
    {
      "cell_type": "markdown",
      "source": [
        "基本上過去的對話紀錄長這個樣子。\n",
        "\n",
        "    messages = [{\"role\":\"system\", \"content\":\"ChatGPT的「人設」\"},\n",
        "            {\"role\": \"user\", \"content\": \"使用者說\"},\n",
        "            {\"role\": \"assistant\", \"content\": \"ChatGPT回應\"},\n",
        "            ：\n",
        "            ：\n",
        "            {\"role\": \"user\", \"content\": prompt (最後說的)}]"
      ],
      "metadata": {
        "id": "W8Da7HZxwW78"
      }
    },
    {
      "cell_type": "markdown",
      "source": [
        "### 4. 用 Gradio 打造你的對話機器人 Web App!"
      ],
      "metadata": {
        "id": "WuzrvcdQx2VO"
      }
    },
    {
      "cell_type": "code",
      "source": [
        "import gradio as gr"
      ],
      "metadata": {
        "id": "xv7nvjfDj3f2"
      },
      "execution_count": 76,
      "outputs": []
    },
    {
      "cell_type": "code",
      "source": [
        "messages = [{\"role\":\"system\",\n",
        "             \"content\":system}]"
      ],
      "metadata": {
        "id": "-N3HEyOlB5ZD"
      },
      "execution_count": 77,
      "outputs": []
    },
    {
      "cell_type": "code",
      "source": [
        "def mychatbot(prompt):\n",
        "    messages.append({\"role\": \"user\", \"content\": prompt})\n",
        "    chat_completion = client.chat.completions.create(\n",
        "        messages=messages,\n",
        "        model=model,\n",
        "        )\n",
        "    reply = chat_completion.choices[0].message.content\n",
        "    return reply"
      ],
      "metadata": {
        "id": "FQ14jXrfnyNG"
      },
      "execution_count": 78,
      "outputs": []
    },
    {
      "cell_type": "code",
      "source": [
        "iface = gr.Interface(mychatbot,\n",
        "                     inputs=\"text\",\n",
        "                     outputs=\"text\",\n",
        "                     title=title,\n",
        "                     description=description)"
      ],
      "metadata": {
        "id": "LVrcuUpYjwP0"
      },
      "execution_count": 79,
      "outputs": []
    },
    {
      "cell_type": "code",
      "source": [
        "iface.launch(share=True, debug=True)"
      ],
      "metadata": {
        "colab": {
          "base_uri": "https://localhost:8080/",
          "height": 625
        },
        "id": "xQDaCtzxkCD7",
        "outputId": "759d8e8a-a888-4e66-c09d-ed56443220a5"
      },
      "execution_count": 80,
      "outputs": [
        {
          "output_type": "stream",
          "name": "stdout",
          "text": [
            "Colab notebook detected. This cell will run indefinitely so that you can see errors and logs. To turn off, set debug=False in launch().\n",
            "* Running on public URL: https://49422690657897d89a.gradio.live\n",
            "\n",
            "This share link expires in 1 week. For free permanent hosting and GPU upgrades, run `gradio deploy` from the terminal in the working directory to deploy to Hugging Face Spaces (https://huggingface.co/spaces)\n"
          ]
        },
        {
          "output_type": "display_data",
          "data": {
            "text/plain": [
              "<IPython.core.display.HTML object>"
            ],
            "text/html": [
              "<div><iframe src=\"https://49422690657897d89a.gradio.live\" width=\"100%\" height=\"500\" allow=\"autoplay; camera; microphone; clipboard-read; clipboard-write;\" frameborder=\"0\" allowfullscreen></iframe></div>"
            ]
          },
          "metadata": {}
        },
        {
          "output_type": "stream",
          "name": "stdout",
          "text": [
            "Keyboard interruption in main thread... closing server.\n",
            "Killing tunnel 127.0.0.1:7860 <> https://49422690657897d89a.gradio.live\n"
          ]
        },
        {
          "output_type": "execute_result",
          "data": {
            "text/plain": []
          },
          "metadata": {},
          "execution_count": 80
        }
      ]
    },
    {
      "cell_type": "code",
      "source": [],
      "metadata": {
        "id": "jzrCV9IDkW5p"
      },
      "execution_count": 80,
      "outputs": []
    }
  ]
}